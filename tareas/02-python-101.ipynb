{
  "nbformat": 4,
  "nbformat_minor": 0,
  "metadata": {
    "colab": {
      "name": "02-python-101.ipynb",
      "provenance": [],
      "collapsed_sections": [],
      "authorship_tag": "ABX9TyNH07LexhccorAbkAzZQkyL",
      "include_colab_link": true
    },
    "kernelspec": {
      "name": "python3",
      "display_name": "Python 3"
    }
  },
  "cells": [
    {
      "cell_type": "markdown",
      "metadata": {
        "id": "view-in-github",
        "colab_type": "text"
      },
      "source": [
        "<a href=\"https://colab.research.google.com/github/br1lamasdiaz/hacking-civico/blob/master/tareas/02-python-101.ipynb\" target=\"_parent\"><img src=\"https://colab.research.google.com/assets/colab-badge.svg\" alt=\"Open In Colab\"/></a>"
      ]
    },
    {
      "cell_type": "markdown",
      "metadata": {
        "id": "r5M8DmurzekE"
      },
      "source": [
        "# Densidad "
      ]
    },
    {
      "cell_type": "code",
      "metadata": {
        "id": "zlzJp5MgzfcK"
      },
      "source": [
        "directorio = [ {\"ciudad\": \"colima_municipio\",\"poblacion\": 150673,\"territorio\": 1668},\n",
        "               {\"ciudad\": \"colima_estado\",\"poblacion\": 711235,\"territorio\": 5625},\n",
        "               {\"ciudad\": \"mexico\",\"poblacion\": 119938473,\"territorio\": 1953162},]\n"
      ],
      "execution_count": 84,
      "outputs": []
    },
    {
      "cell_type": "code",
      "metadata": {
        "id": "2hmRMdP1psV0",
        "outputId": "8a110bd8-a746-4355-c169-b54a749b4678",
        "colab": {
          "base_uri": "https://localhost:8080/"
        }
      },
      "source": [
        "for miembro in directorio:\n",
        "    print(\"Ubicacion:\", miembro['ciudad'])\n",
        "    print(\"Poblacion:\", miembro['poblacion'])\n",
        "    print(\"Territorio:\", miembro['territorio'])\n",
        "    print()"
      ],
      "execution_count": 85,
      "outputs": [
        {
          "output_type": "stream",
          "text": [
            "Ubicacion: colima_municipio\n",
            "Poblacion: 150673\n",
            "Territorio: 1668\n",
            "\n",
            "Ubicacion: colima_estado\n",
            "Poblacion: 711235\n",
            "Territorio: 5625\n",
            "\n",
            "Ubicacion: mexico\n",
            "Poblacion: 119938473\n",
            "Territorio: 1953162\n",
            "\n"
          ],
          "name": "stdout"
        }
      ]
    },
    {
      "cell_type": "code",
      "metadata": {
        "id": "LdHs6JghLLXM"
      },
      "source": [
        "def densidad (poblacion, territorio):\n",
        "  return (poblacion/territorio)"
      ],
      "execution_count": 86,
      "outputs": []
    },
    {
      "cell_type": "code",
      "metadata": {
        "id": "DzsvZ82hLP-d",
        "outputId": "0327d22d-d83a-4a7e-97a0-c6f48660d4d6",
        "colab": {
          "base_uri": "https://localhost:8080/"
        }
      },
      "source": [
        "for t in directorio:\n",
        "  densidad_poblacion = densidad (t['poblacion'], t['territorio'])\n",
        "  print('La densidad poblacional es ' + str(densidad_poblacion) + ' en ' + t['ciudad'])"
      ],
      "execution_count": 87,
      "outputs": [
        {
          "output_type": "stream",
          "text": [
            "La densidad poblacional es 90.33153477218225 en colima_municipio\n",
            "La densidad poblacional es 126.44177777777777 en colima_estado\n",
            "La densidad poblacional es 61.40733487544812 en mexico\n"
          ],
          "name": "stdout"
        }
      ]
    },
    {
      "cell_type": "markdown",
      "metadata": {
        "id": "GcDMuiHq2v5p"
      },
      "source": [
        "La **densidad de población** es una medida de distribución de población de un país, estado o municipio que es equivalente al número de habitantes dividido entre el área del territorio.\n",
        " \n",
        "| Ubicacion | Poblacion   | Territorio | Densidad |\n",
        "| --------- | ----------- | ---------- | -------- |\n",
        "|  M. Col   |    150673   |    1668    | 90.3     |\n",
        "|  E. Col   |    711235   |    5625    | 126.4    |\n",
        "|  Mexico   | 119938473   | 1953162    | 61.4     |\n",
        "\n",
        "\n",
        "\n"
      ]
    },
    {
      "cell_type": "markdown",
      "metadata": {
        "id": "YyUgKnhUM9B3"
      },
      "source": [
        "# Inversión"
      ]
    },
    {
      "cell_type": "code",
      "metadata": {
        "id": "c-X7r4WpOyEl"
      },
      "source": [
        "datos = [ {\"año\":\"2017\", \"gasto\":602799942, \"poblacion\":123597},\n",
        "          {\"año\":\"2018\", \"gasto\": 640608041, \"poblacion\":150673},]"
      ],
      "execution_count": 123,
      "outputs": []
    },
    {
      "cell_type": "code",
      "metadata": {
        "id": "FiDhxYzPVgbf",
        "outputId": "15bfcb59-7583-4a61-d75b-db0e9d733d7a",
        "colab": {
          "base_uri": "https://localhost:8080/"
        }
      },
      "source": [
        "for inversion in datos:\n",
        "  print(\"En\", inversion[\"año\"], \"se invirtió la cantidad de $\", inversion[\"gasto\"])"
      ],
      "execution_count": 127,
      "outputs": [
        {
          "output_type": "stream",
          "text": [
            "En 2017 se invirtió la cantidad de $ 602799942\n",
            "En 2018 se invirtió la cantidad de $ 640608041\n"
          ],
          "name": "stdout"
        }
      ]
    },
    {
      "cell_type": "code",
      "metadata": {
        "id": "y-jvXzMSYHOA"
      },
      "source": [
        "def percapita (gasto, poblacion):\n",
        "   return (gasto/poblacion)"
      ],
      "execution_count": 130,
      "outputs": []
    },
    {
      "cell_type": "code",
      "metadata": {
        "id": "TJMGTB--tY_U",
        "outputId": "d266abfb-52a4-4d91-9f93-261c69aae9db",
        "colab": {
          "base_uri": "https://localhost:8080/"
        }
      },
      "source": [
        "for i in datos:\n",
        "  gasto_percapita = percapita (i[\"gasto\"], i[\"poblacion\"])\n",
        "  print('La inversion per capita en ' + i[\"año\"] + \"fue de $ \" + str(gasto_percapita))"
      ],
      "execution_count": 134,
      "outputs": [
        {
          "output_type": "stream",
          "text": [
            "La inversion per capita en 2017fue de $ 4877.140561664118\n",
            "La inversion per capita en 2018fue de $ 4251.64456140118\n"
          ],
          "name": "stdout"
        }
      ]
    },
    {
      "cell_type": "markdown",
      "metadata": {
        "id": "cj7-B5oIuvFv"
      },
      "source": [
        "**¿Para qué crees que nos pueda ser útil esta información?**\n",
        "\n",
        "En caso de la densidad de población y la inversión per capita, nos ayuda a dimensionar de forma más exacta las condiciones de vida en determinadas ciudades, ya que nos permite conocer un dato mas apegado a la realidad por persona, y no por comunidad. \n",
        "\n",
        "**¿Qué decisiones podría tomar el gobierno basado en ésta?**\n",
        "\n",
        "El nivel de gasto o territorio per capita permite dimensionar la condicion e ingerencia que puede tener las instituciones públicas en la sociedad, quiza un territorio tenga un menor gasto si se copara el dato duro junto con otros presupuestos, pero no quiere decir que el sistema provea de una mejor atencion y capacidad de gasto por usuario.\n"
      ]
    }
  ]
}